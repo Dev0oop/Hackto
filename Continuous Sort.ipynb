{
 "cells": [
  {
   "cell_type": "code",
   "execution_count": 16,
   "id": "d4834333",
   "metadata": {},
   "outputs": [
    {
     "name": "stdout",
     "output_type": "stream",
     "text": [
      "20\n",
      "[-10, -5, -3, -1, 0, 5, 8, 10]\n"
     ]
    }
   ],
   "source": [
    "def countingSort(arra):\n",
    "    lower=min(arra)\n",
    "    \n",
    "    if lower<0:\n",
    "        lowest=lower*-1\n",
    "        \n",
    "        for i in range(len(arra)):\n",
    "            arra[i]=arra[i]+lowest\n",
    "    else:\n",
    "        lowest=0\n",
    "    \n",
    "    maximum=max(arra)\n",
    "    out=[0]*(maximum+1)\n",
    "    cou=[0]*len(arra)\n",
    "    \n",
    "    for i in range(len(arra)-1):\n",
    "        out[arra[i]]+=1\n",
    "        \n",
    "    for i in range(maximum):\n",
    "        out[i]+=out[i-1]\n",
    "    \n",
    "    idx=len(arra)-1\n",
    "    while idx>-1:\n",
    "        j=arra[idx] \n",
    "        out[j]-=1\n",
    "        cou[out[j]]=arra[idx]\n",
    "        idx-=1 \n",
    "    for i in range(len(cou)):\n",
    "        cou[i]=cou[i]+lower\n",
    "     \n",
    "    return cou\n",
    "arr=[-5,-10,0,-3,8,5,-1,10]\n",
    "c=countingSort(arr)\n",
    "print(c)"
   ]
  },
  {
   "cell_type": "code",
   "execution_count": 25,
   "id": "2889debe",
   "metadata": {},
   "outputs": [
    {
     "name": "stdout",
     "output_type": "stream",
     "text": [
      "0\n"
     ]
    }
   ],
   "source": []
  },
  {
   "cell_type": "code",
   "execution_count": null,
   "id": "eb554dae",
   "metadata": {},
   "outputs": [],
   "source": []
  }
 ],
 "metadata": {
  "kernelspec": {
   "display_name": "Python 3",
   "language": "python",
   "name": "python3"
  },
  "language_info": {
   "codemirror_mode": {
    "name": "ipython",
    "version": 3
   },
   "file_extension": ".py",
   "mimetype": "text/x-python",
   "name": "python",
   "nbconvert_exporter": "python",
   "pygments_lexer": "ipython3",
   "version": "3.8.8"
  }
 },
 "nbformat": 4,
 "nbformat_minor": 5
}
