{
 "cells": [
  {
   "cell_type": "code",
   "execution_count": 35,
   "id": "f761b7d8",
   "metadata": {},
   "outputs": [
    {
     "name": "stdout",
     "output_type": "stream",
     "text": [
      "Enter size:5\n",
      "Enter Element 0:76\n",
      "Enter Element 1:54\n",
      "Enter Element 2:3\n",
      "Enter Element 3:7\n",
      "Enter Element 4:2\n",
      "Enter Kth term to find:2\n",
      "3\n"
     ]
    }
   ],
   "source": [
    "size=int(input(\"Enter size:\"))\n",
    "arr=[]\n",
    "for i in range(size):\n",
    "    array=int(input(\"Enter Element \"+str(i)+\":\"))\n",
    "    arr.append(array) \n",
    "def partition(arr,low,high):\n",
    "    pivot=arr[high]\n",
    "    i = (low - 1) \n",
    "    for j in range(low,high):\n",
    "        if (arr[j] < pivot):\n",
    "            i=i+1\n",
    "            arr[i],arr[j]=arr[j],arr[i]\n",
    "    arr[i+1],arr[high]=arr[high],arr[i+1]\n",
    "    return i+1\n",
    "\n",
    "def quickSelect(list, left, right,k):\n",
    "    pivotIndex=-1\n",
    "    if left == right:\n",
    "        return list[left]\n",
    "    pivotIndex = partition(list, left, right)\n",
    "    if k == pivotIndex:\n",
    "        return list[k]\n",
    "    elif k < pivotIndex:\n",
    "        right = pivotIndex - 1\n",
    "        return quickSelect(list,left,right,k)\n",
    "    else:\n",
    "        left = pivotIndex + 1\n",
    "        return quickSelect(list,left,right,k)\n",
    "    \n",
    "k=int(input(\"Enter Kth term to find:\"))    \n",
    "r=quickSelect(arr,0,size-1,k-1)\n",
    "print(r)"
   ]
  },
  {
   "cell_type": "code",
   "execution_count": null,
   "id": "a3a883fc",
   "metadata": {},
   "outputs": [],
   "source": []
  }
 ],
 "metadata": {
  "kernelspec": {
   "display_name": "Python 3",
   "language": "python",
   "name": "python3"
  },
  "language_info": {
   "codemirror_mode": {
    "name": "ipython",
    "version": 3
   },
   "file_extension": ".py",
   "mimetype": "text/x-python",
   "name": "python",
   "nbconvert_exporter": "python",
   "pygments_lexer": "ipython3",
   "version": "3.8.8"
  }
 },
 "nbformat": 4,
 "nbformat_minor": 5
}
