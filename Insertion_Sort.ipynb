{
 "cells": [
  {
   "cell_type": "code",
   "execution_count": 2,
   "id": "1a75ea58",
   "metadata": {},
   "outputs": [
    {
     "name": "stdout",
     "output_type": "stream",
     "text": [
      "Enter the size of Array !16\n",
      "Enter the 1 array Digit :5\n",
      "Enter the 2 array Digit :7\n",
      "Enter the 3 array Digit :-8\n",
      "Enter the 4 array Digit :9\n",
      "Enter the 5 array Digit :10\n",
      "Enter the 6 array Digit :4\n",
      "Enter the 7 array Digit :-7\n",
      "Enter the 8 array Digit :0\n",
      "Enter the 9 array Digit :-12\n",
      "Enter the 10 array Digit :1\n",
      "Enter the 11 array Digit :6\n",
      "Enter the 12 array Digit :2\n",
      "Enter the 13 array Digit :3\n",
      "Enter the 14 array Digit :-4\n",
      "Enter the 15 array Digit :-15\n",
      "Enter the 16 array Digit :12\n",
      "[-15, -12, -8, -7, -4, 0, 1, 2, 3, 4, 5, 6, 7, 9, 10, 12]\n"
     ]
    }
   ],
   "source": [
    "#  insertion sort algorithm.\n",
    "#function for input\n",
    "def Input_fun(arr):\n",
    "    size = int(input(\"Enter the size of Array !\"))\n",
    "    for i in range(size):\n",
    "        try:\n",
    "            temp = int(input(\"Enter the \"+str(i+1)+\" array Digit :\"))\n",
    "            arr.append(temp)\n",
    "        except:\n",
    "            print(\"Plz enter correct number !!\")\n",
    "    return arr\n",
    "def Insertion_Sort(arr):\n",
    "    key=0\n",
    "    for j in range(1,len(arr)):\n",
    "        key = arr[j]\n",
    "        i=j-1\n",
    "        while((i>0 or i==0) and arr[i]>key):\n",
    "            arr[i+1]=arr[i]\n",
    "            i=i-1\n",
    "        arr[i+1]=key\n",
    "    return arr\n",
    "A=[]\n",
    "Input_fun(A)\n",
    "Insertion_Sort(A)\n",
    "print(A)"
   ]
  },
  {
   "cell_type": "code",
   "execution_count": null,
   "id": "79920c32",
   "metadata": {},
   "outputs": [],
   "source": []
  }
 ],
 "metadata": {
  "kernelspec": {
   "display_name": "Python 3",
   "language": "python",
   "name": "python3"
  },
  "language_info": {
   "codemirror_mode": {
    "name": "ipython",
    "version": 3
   },
   "file_extension": ".py",
   "mimetype": "text/x-python",
   "name": "python",
   "nbconvert_exporter": "python",
   "pygments_lexer": "ipython3",
   "version": "3.8.8"
  }
 },
 "nbformat": 4,
 "nbformat_minor": 5
}
