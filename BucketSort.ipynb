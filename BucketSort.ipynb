{
 "cells": [
  {
   "cell_type": "code",
   "execution_count": 3,
   "id": "0efe758a",
   "metadata": {},
   "outputs": [],
   "source": [
    "def insertionSort(A):\n",
    "    for i in range(1,len(A)):\n",
    "        key=A[i]\n",
    "        j=i-1       \n",
    "        while j>=0 and key<A[j]:\n",
    "            A[j+1]=A[j]\n",
    "            j=j-1\n",
    "        A[j+1]=key\n"
   ]
  },
  {
   "cell_type": "code",
   "execution_count": 14,
   "id": "6028e08a",
   "metadata": {},
   "outputs": [],
   "source": [
    "def bucketSort(A):\n",
    "    s=len(A)\n",
    "    D=[[] for i in range(s)]\n",
    "    \n",
    "    for i in range(s):\n",
    "        D[s*int(A[i])].append(A[i])\n",
    "    arr=[]   \n",
    "    for i in range(s):\n",
    "        insertionSort(D[i])\n",
    "    for i in range(len(D)):\n",
    "        for j in range(len(D[i])):\n",
    "            arr.append(D[i][j])\n",
    "    return arr\n",
    "    "
   ]
  },
  {
   "cell_type": "code",
   "execution_count": 15,
   "id": "8672972a",
   "metadata": {},
   "outputs": [
    {
     "name": "stdout",
     "output_type": "stream",
     "text": [
      "[0.1234, 0.3434, 0.565, 0.656, 0.665, 0.897]\n"
     ]
    }
   ],
   "source": [
    "A=[0.897,0.565,0.656,0.1234,0.665,0.3434]\n",
    "r=bucketSort(A)\n",
    "print(r)"
   ]
  },
  {
   "cell_type": "code",
   "execution_count": null,
   "id": "a5b69d0a",
   "metadata": {},
   "outputs": [],
   "source": []
  }
 ],
 "metadata": {
  "kernelspec": {
   "display_name": "Python 3",
   "language": "python",
   "name": "python3"
  },
  "language_info": {
   "codemirror_mode": {
    "name": "ipython",
    "version": 3
   },
   "file_extension": ".py",
   "mimetype": "text/x-python",
   "name": "python",
   "nbconvert_exporter": "python",
   "pygments_lexer": "ipython3",
   "version": "3.8.8"
  }
 },
 "nbformat": 4,
 "nbformat_minor": 5
}
